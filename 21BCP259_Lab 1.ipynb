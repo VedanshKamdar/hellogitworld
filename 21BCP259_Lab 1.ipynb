{
 "cells": [
  {
   "cell_type": "markdown",
   "metadata": {},
   "source": [
    "# **Lab Assignment 1**\n",
    "---\n",
    "*Vedansh Kamdar*\n",
    "*21BCP259*\n",
    "*Division 4 Group 8*"
   ]
  },
  {
   "cell_type": "markdown",
   "metadata": {},
   "source": [
    "## Task 1: Introduction to Data Visualization"
   ]
  },
  {
   "cell_type": "markdown",
   "metadata": {},
   "source": [
    "Data visualization is the graphical representation of information and data. By using visual elements like charts, graphs, and maps, data visualization tools provide an accessible way to see and understand trends, outliers, and patterns in data. It helps in making complex data more understandable and actionable, allowing for better decision-making and communication. Effective data visualization combines both aesthetics and functionality, ensuring the data is presented clearly and efficiently.\n",
    "\n",
    "---"
   ]
  },
  {
   "cell_type": "markdown",
   "metadata": {},
   "source": [
    "## Task 2: Selecting Data Visualization Tools"
   ]
  },
  {
   "cell_type": "markdown",
   "metadata": {},
   "source": [
    "### *Few of such data visualization tools include:*\n",
    "\n",
    "#### Matplotlib\n",
    "Matplotlib is a widely-used Python library for creating static, interactive, and animated visualizations. It provides a flexible foundation for building custom plots and supports a variety of chart types, including line plots, bar charts, histograms, and scatter plots.\n",
    "\n",
    "### Seaborn\n",
    "Seaborn is built on top of Matplotlib and offers a higher-level interface for creating attractive and informative statistical graphics. It simplifies complex visualizations like heatmaps, violin plots, and pair plots, and it integrates seamlessly with Pandas data structures.\n",
    "\n",
    "### Power BI\n",
    "Power BI is a business analytics service by Microsoft that provides interactive visualizations and business intelligence capabilities. It allows users to create and share dashboards and reports, connecting to a wide range of data sources and offering robust data transformation tools.\n",
    "\n",
    "### Plotly\n",
    "Plotly is a graphing library that makes interactive, publication-quality graphs online. It supports a wide range of chart types, including line charts, scatter plots, bar charts, and 3D charts. Plotly's integration with Dash allows for building interactive web applications with Python.\n",
    "\n",
    "---\n"
   ]
  },
  {
   "cell_type": "markdown",
   "metadata": {},
   "source": [
    "## Task 3: Provide brief overview of the tool's features and capabilities"
   ]
  },
  {
   "cell_type": "markdown",
   "metadata": {},
   "source": [
    "### *Some of the features of the above listed tools include:*\n",
    "\n",
    "### Matplotlib\n",
    "Matplotlib is a comprehensive library for creating static, animated, and interactive visualizations in Python. It provides extensive customization options for producing high-quality plots. Common chart types include:\n",
    "- **Line plots**: Ideal for displaying trends over time.\n",
    "- **Bar charts**: Useful for comparing quantities across different categories.\n",
    "- **Histograms**: Great for showing the distribution of a dataset.\n",
    "- **Scatter plots**: Effective for exploring relationships between variables.\n",
    "\n",
    "### Seaborn\n",
    "Seaborn is a Python visualization library based on Matplotlib that offers a high-level interface for drawing attractive and informative statistical graphics. It simplifies the process of creating complex visualizations and integrates seamlessly with Pandas data structures. Key features include:\n",
    "- **Heatmaps**: Useful for visualizing matrix data and correlations.\n",
    "- **Violin plots**: Combines aspects of boxplots and density plots to show data distributions.\n",
    "- **Pair plots**: Provides a matrix of scatter plots for pairwise relationships in a dataset.\n",
    "- **Factor plots**: Useful for drawing categorical plots with different statistical representations.\n",
    "\n",
    "### Power BI\n",
    "Power BI is a business analytics service by Microsoft that provides interactive visualizations and business intelligence capabilities. It allows users to create and share dashboards and reports, connecting to a wide range of data sources. Key features include:\n",
    "- **Data transformation tools**: Allows for cleaning and shaping data within Power BI.\n",
    "- **Interactive dashboards**: Users can create dynamic and interactive dashboards for real-time data insights.\n",
    "- **Extensive data connectivity**: Supports a variety of data sources, including Excel, SQL Server, and cloud-based data services.\n",
    "- **Custom visuals**: Users can import and create custom visualizations to enhance reports.\n",
    "\n",
    "### Plotly\n",
    "Plotly is an open-source graphing library that enables the creation of interactive, publication-quality graphs online. It supports a wide range of chart types and is highly customizable. Plotly's key features include:\n",
    "- **Interactive plots**: Charts are interactive by default, allowing for zooming, panning, and hover effects.\n",
    "- **3D charts**: Supports 3D visualizations like surface plots and 3D scatter plots.\n",
    "- **Dash integration**: Enables the creation of interactive web applications using Dash, a framework built on top of Plotly.\n",
    "- **Cross-language support**: Plotly can be used with Python, R, MATLAB, and JavaScript, making it versatile for various pro\n",
    "\n",
    "---"
   ]
  },
  {
   "cell_type": "markdown",
   "metadata": {},
   "source": [
    "## Task 4: Provide atleast one practical use case scenario where the tool would be particularly useful"
   ]
  },
  {
   "cell_type": "markdown",
   "metadata": {},
   "source": [
    "### *Data Visualization Tools Use Cases:*\n",
    "\n",
    "### Matplotlib\n",
    "**Use Case**: A financial analyst uses Matplotlib to create line plots showing stock price trends over time, helping to identify long-term growth patterns and make informed investment decisions.\n",
    "\n",
    "### Seaborn\n",
    "**Use Case**: A data scientist uses Seaborn to create a heatmap showing correlations between different variables in a dataset, making it easier to identify which variables are most strongly related.\n",
    "\n",
    "### Power BI\n",
    "**Use Case**: A business manager uses Power BI to create interactive dashboards that display real-time sales data from multiple regions, enabling quick identification of high-performing and underperforming areas and facilitating data-driven decision-making.\n",
    "\n",
    "### Plotly\n",
    "**Use Case**: A marketing analyst uses Plotly to create interactive scatter plots that visualize customer segmentation based on purchasing behavior, allowing for dynamic exploration of different segments and more targeted marketing strategies.\n",
    "\n",
    "---\n"
   ]
  },
  {
   "cell_type": "markdown",
   "metadata": {},
   "source": [
    "## Task 5: Discuss strengths and weaknesses about each tool"
   ]
  },
  {
   "cell_type": "markdown",
   "metadata": {},
   "source": [
    "### Below listed are strengths and weaknesses of the tools:\n",
    "\n",
    "### Matplotlib\n",
    "**Strengths**:\n",
    "- Highly customizable: Offers extensive control over plot appearance and behavior.\n",
    "- Versatile: Supports a wide range of plot types and can be used for both simple and complex visualizations.\n",
    "- Mature and stable: Well-documented with a large user base and community support.\n",
    "\n",
    "**Weaknesses**:\n",
    "- Steep learning curve: Can be complex for beginners to learn and use effectively.\n",
    "- Verbose code: Requires a lot of code to produce detailed custom plots.\n",
    "- Limited interactivity: Primarily designed for static plots, with less built-in support for interactivity compared to other tools.\n",
    "\n",
    "### Seaborn\n",
    "**Strengths**:\n",
    "- High-level interface: Simplifies the creation of complex statistical plots with minimal code.\n",
    "- Beautiful default styles: Produces aesthetically pleasing visualizations by default.\n",
    "- Integrated with Pandas: Works seamlessly with Pandas data structures, making it easy to visualize data directly from DataFrames.\n",
    "\n",
    "**Weaknesses**:\n",
    "- Limited customization: Less flexible than Matplotlib for highly customized plots.\n",
    "- Dependency on Matplotlib: Built on top of Matplotlib, so some advanced customizations require Matplotlib knowledge.\n",
    "- Performance: Can be slower with very large datasets.\n",
    "\n",
    "### Power BI\n",
    "**Strengths**:\n",
    "- User-friendly: Intuitive drag-and-drop interface for creating visualizations without needing coding skills.\n",
    "- Real-time data: Supports live data connections and real-time updates.\n",
    "- Rich feature set: Offers advanced analytics, custom visuals, and extensive data connectivity options.\n",
    "\n",
    "**Weaknesses**:\n",
    "- Cost: Can be expensive for full-featured versions and enterprise use.\n",
    "- Limited customizability: Less flexible for highly customized or non-standard visualizations.\n",
    "- Learning curve: While user-friendly, mastering all features and capabilities can take time.\n",
    "\n",
    "### Plotly\n",
    "**Strengths**:\n",
    "- Interactivity: Creates highly interactive plots with built-in support for zooming, panning, and hover effects.\n",
    "- Versatile: Supports a wide range of chart types, including 3D and geographic plots.\n",
    "- Cross-platform: Can be used with multiple programming languages, including Python, R, MATLAB, and JavaScript.\n",
    "\n",
    "**Weaknesses**:\n",
    "- Complexity: Creating complex visualizations can be challenging and require detailed knowledge of the library.\n",
    "- Performance: Interactive plots can be slow with very large datasets.\n",
    "- Dependency on web: Many features require web-based rendering, which can limit offline use.\n",
    "\n",
    "---\n"
   ]
  },
  {
   "cell_type": "markdown",
   "metadata": {},
   "source": [
    "## Task 6: Practical implementation for each tool"
   ]
  },
  {
   "cell_type": "markdown",
   "metadata": {},
   "source": [
    "### **Matplotlib**"
   ]
  },
  {
   "cell_type": "markdown",
   "metadata": {},
   "source": [
    "### This plot will show the average calories of cereals produced by each manufacturer."
   ]
  },
  {
   "cell_type": "code",
   "execution_count": 2,
   "metadata": {},
   "outputs": [
    {
     "data": {
      "image/png": "[encoded data removed]",
      "text/plain": [
       "<Figure size 1000x600 with 1 Axes>"
      ]
     },
     "metadata": {},
     "output_type": "display_data"
    }
   ],
   "source": [
    "import pandas as pd\n",
    "import matplotlib.pyplot as plt\n",
    "\n",
    "# Load the dataset\n",
    "df = pd.read_csv('cereal.csv')\n",
    "\n",
    "avg_calories = df.groupby('mfr')['calories'].mean().sort_values()\n",
    "\n",
    "plt.figure(figsize=(10, 6))\n",
    "avg_calories.plot(kind='bar', color='teal')\n",
    "plt.title('Average Calories by Manufacturer')\n",
    "plt.xlabel('Manufacturer')\n",
    "plt.ylabel('Average Calories')\n",
    "plt.xticks(rotation=45)\n",
    "plt.show()\n"
   ]
  },
  {
   "cell_type": "markdown",
   "metadata": {},
   "source": [
    "### This plot will show the relationship between the sugar content and the rating of cereals."
   ]
  },
  {
   "cell_type": "code",
   "execution_count": 3,
   "metadata": {},
   "outputs": [
    {
     "data": {
      "image/png": "[encoded data removed]",
      "text/plain": [
       "<Figure size 1000x600 with 1 Axes>"
      ]
     },
     "metadata": {},
     "output_type": "display_data"
    }
   ],
   "source": [
    "import matplotlib.pyplot as plt\n",
    "\n",
    "plt.figure(figsize=(10, 6))\n",
    "plt.scatter(df['sugars'], df['rating'], alpha=0.7, color='maroon')\n",
    "plt.title('Sugar Content vs. Rating')\n",
    "plt.xlabel('Sugar Content (g)')\n",
    "plt.ylabel('Rating')\n",
    "plt.grid(True)\n",
    "plt.show()\n"
   ]
  },
  {
   "cell_type": "markdown",
   "metadata": {},
   "source": [
    "### **Seaborn**"
   ]
  },
  {
   "cell_type": "markdown",
   "metadata": {},
   "source": [
    "### This plot will compare the distribution of ratings for hot and cold cereals."
   ]
  },
  {
   "cell_type": "code",
   "execution_count": 16,
   "metadata": {},
   "outputs": [
    {
     "name": "stderr",
     "output_type": "stream",
     "text": [
      "C:\\Users\\vedan\\AppData\\Local\\Temp\\ipykernel_21868\\202426845.py:5: FutureWarning:\n",
      "\n",
      "\n",
      "\n",
      "Passing `palette` without assigning `hue` is deprecated and will be removed in v0.14.0. Assign the `x` variable to `hue` and set `legend=False` for the same effect.\n",
      "\n",
      "\n"
     ]
    },
    {
     "data": {
      "image/png": "[encoded data removed]",
      "text/plain": [
       "<Figure size 1000x600 with 1 Axes>"
      ]
     },
     "metadata": {},
     "output_type": "display_data"
    }
   ],
   "source": [
    "import seaborn as sns\n",
    "import matplotlib.pyplot as plt\n",
    "\n",
    "plt.figure(figsize=(10, 6))\n",
    "sns.boxplot(x='type', y='rating', data=df, palette='pastel')\n",
    "plt.title('Rating Distribution by Cereal Type')\n",
    "plt.xlabel('Cereal Type')\n",
    "plt.ylabel('Rating')\n",
    "plt.show()"
   ]
  },
  {
   "cell_type": "markdown",
   "metadata": {},
   "source": [
    "### This plot will visualize the correlation between different nutritional attributes of cereals."
   ]
  },
  {
   "cell_type": "code",
   "execution_count": 15,
   "metadata": {},
   "outputs": [
    {
     "name": "stderr",
     "output_type": "stream",
     "text": [
      "C:\\Users\\vedan\\AppData\\Local\\Temp\\ipykernel_21868\\2298718376.py:5: FutureWarning:\n",
      "\n",
      "The default value of numeric_only in DataFrame.corr is deprecated. In a future version, it will default to False. Select only valid columns or specify the value of numeric_only to silence this warning.\n",
      "\n"
     ]
    },
    {
     "data": {
      "image/png": "[encoded data removed]",
      "text/plain": [
       "<Figure size 1200x800 with 2 Axes>"
      ]
     },
     "metadata": {},
     "output_type": "display_data"
    }
   ],
   "source": [
    "import seaborn as sns\n",
    "import matplotlib.pyplot as plt\n",
    "\n",
    "corr_matrix = df.corr()\n",
    "\n",
    "plt.figure(figsize=(12, 8))\n",
    "sns.heatmap(corr_matrix, annot=True, fmt='.2f', cmap='coolwarm', linewidths=0.5)\n",
    "plt.title('Correlation Matrix of Cereal Attributes')\n",
    "plt.show()\n"
   ]
  },
  {
   "cell_type": "markdown",
   "metadata": {},
   "source": [
    "### **Power BI**"
   ]
  },
  {
   "cell_type": "code",
   "execution_count": 22,
   "metadata": {},
   "outputs": [
    {
     "data": {
      "image/png": "[encoded data removed]",
      "text/plain": [
       "<PIL.Image.Image image mode=RGBA size=700x400>"
      ]
     },
     "metadata": {},
     "output_type": "display_data"
    }
   ],
   "source": [
    "from PIL import Image\n",
    "from IPython.display import display\n",
    "\n",
    "img = Image.open('powerbi.png')\n",
    "\n",
    "img = img.resize((700, 400))\n",
    "\n",
    "display(img)"
   ]
  },
  {
   "cell_type": "markdown",
   "metadata": {},
   "source": [
    "### **Plotly**"
   ]
  },
  {
   "cell_type": "markdown",
   "metadata": {},
   "source": [
    "### This plot will show the relationship between the sugar content and the rating of cereals with interactivity."
   ]
  },
  {
   "cell_type": "code",
   "execution_count": 10,
   "metadata": {},
   "outputs": [
    {
     "data": {
      "application/vnd.plotly.v1+json": {
       "config": {
        "plotlyServerURL": "https://plot.ly"
       },
       "data": [
        {
         "customdata": [
          [
           "100% Bran"
          ],
          [
           "Cream of Wheat (Quick)"
          ],
          [
           "Shredded Wheat"
          ],
          [
           "Shredded Wheat 'n'Bran"
          ],
          [
           "Shredded Wheat spoon size"
          ],
          [
           "Strawberry Fruit Wheats"
          ]
         ],
         "hovertemplate": "mfr=N<br>Sugar Content (g)=%{x}<br>Rating=%{y}<br>name=%{customdata[0]}<extra></extra>",
         "legendgroup": "N",
         "marker": {
          "color": "#636efa",
          "symbol": "circle"
         },
         "mode": "markers",
         "name": "N",
         "orientation": "v",
         "showlegend": true,
         "type": "scatter",
         "x": [
          6,
          0,
          0,
          0,
          0,
          5
         ],
         "xaxis": "x",
         "y": [
          68.402973,
          64.533816,
          68.235885,
          74.472949,
          72.801787,
          59.363993
         ],
         "yaxis": "y"
        },
        {
         "customdata": [
          [
           "100% Natural Bran"
          ],
          [
           "Cap'n'Crunch"
          ],
          [
           "Honey Graham Ohs"
          ],
          [
           "Life"
          ],
          [
           "Puffed Rice"
          ],
          [
           "Puffed Wheat"
          ],
          [
           "Quaker Oat Squares"
          ],
          [
           "Quaker Oatmeal"
          ]
         ],
         "hovertemplate": "mfr=Q<br>Sugar Content (g)=%{x}<br>Rating=%{y}<br>name=%{customdata[0]}<extra></extra>",
         "legendgroup": "Q",
         "marker": {
          "color": "#EF553B",
          "symbol": "circle"
         },
         "mode": "markers",
         "name": "Q",
         "orientation": "v",
         "showlegend": true,
         "type": "scatter",
         "x": [
          8,
          12,
          11,
          6,
          0,
          0,
          6,
          -1
         ],
         "xaxis": "x",
         "y": [
          33.983679,
          18.042851,
          21.871292,
          45.328074,
          60.756112,
          63.005645,
          49.511874,
          50.828392
         ],
         "yaxis": "y"
        },
        {
         "customdata": [
          [
           "All-Bran"
          ],
          [
           "All-Bran with Extra Fiber"
          ],
          [
           "Apple Jacks"
          ],
          [
           "Corn Flakes"
          ],
          [
           "Corn Pops"
          ],
          [
           "Cracklin' Oat Bran"
          ],
          [
           "Crispix"
          ],
          [
           "Froot Loops"
          ],
          [
           "Frosted Flakes"
          ],
          [
           "Frosted Mini-Wheats"
          ],
          [
           "Fruitful Bran"
          ],
          [
           "Just Right Crunchy  Nuggets"
          ],
          [
           "Just Right Fruit & Nut"
          ],
          [
           "Mueslix Crispy Blend"
          ],
          [
           "Nut&Honey Crunch"
          ],
          [
           "Nutri-Grain Almond-Raisin"
          ],
          [
           "Nutri-grain Wheat"
          ],
          [
           "Product 19"
          ],
          [
           "Raisin Bran"
          ],
          [
           "Raisin Squares"
          ],
          [
           "Rice Krispies"
          ],
          [
           "Smacks"
          ],
          [
           "Special K"
          ]
         ],
         "hovertemplate": "mfr=K<br>Sugar Content (g)=%{x}<br>Rating=%{y}<br>name=%{customdata[0]}<extra></extra>",
         "legendgroup": "K",
         "marker": {
          "color": "#00cc96",
          "symbol": "circle"
         },
         "mode": "markers",
         "name": "K",
         "orientation": "v",
         "showlegend": true,
         "type": "scatter",
         "x": [
          5,
          0,
          14,
          2,
          12,
          7,
          3,
          13,
          11,
          7,
          12,
          6,
          9,
          13,
          9,
          7,
          2,
          3,
          12,
          6,
          3,
          15,
          3
         ],
         "xaxis": "x",
         "y": [
          59.425505,
          93.704912,
          33.174094,
          45.863324,
          35.782791,
          40.448772,
          46.895644,
          32.207582,
          31.435973,
          58.345141,
          41.015492,
          36.523683,
          36.471512,
          30.313351,
          29.924285,
          40.69232,
          59.642837,
          41.50354,
          39.259197,
          55.333142,
          40.560159,
          31.230054,
          53.131324
         ],
         "yaxis": "y"
        },
        {
         "customdata": [
          [
           "Almond Delight"
          ],
          [
           "Bran Chex"
          ],
          [
           "Corn Chex"
          ],
          [
           "Double Chex"
          ],
          [
           "Muesli Raisins; Dates; & Almonds"
          ],
          [
           "Muesli Raisins; Peaches; & Pecans"
          ],
          [
           "Rice Chex"
          ],
          [
           "Wheat Chex"
          ]
         ],
         "hovertemplate": "mfr=R<br>Sugar Content (g)=%{x}<br>Rating=%{y}<br>name=%{customdata[0]}<extra></extra>",
         "legendgroup": "R",
         "marker": {
          "color": "#ab63fa",
          "symbol": "circle"
         },
         "mode": "markers",
         "name": "R",
         "orientation": "v",
         "showlegend": true,
         "type": "scatter",
         "x": [
          8,
          6,
          3,
          5,
          11,
          11,
          2,
          3
         ],
         "xaxis": "x",
         "y": [
          34.384843,
          49.120253,
          41.445019,
          44.330856,
          37.136863,
          34.139765,
          41.998933,
          49.787445
         ],
         "yaxis": "y"
        },
        {
         "customdata": [
          [
           "Apple Cinnamon Cheerios"
          ],
          [
           "Basic 4"
          ],
          [
           "Cheerios"
          ],
          [
           "Cinnamon Toast Crunch"
          ],
          [
           "Clusters"
          ],
          [
           "Cocoa Puffs"
          ],
          [
           "Count Chocula"
          ],
          [
           "Crispy Wheat & Raisins"
          ],
          [
           "Golden Grahams"
          ],
          [
           "Honey Nut Cheerios"
          ],
          [
           "Kix"
          ],
          [
           "Lucky Charms"
          ],
          [
           "Multi-Grain Cheerios"
          ],
          [
           "Oatmeal Raisin Crisp"
          ],
          [
           "Raisin Nut Bran"
          ],
          [
           "Total Corn Flakes"
          ],
          [
           "Total Raisin Bran"
          ],
          [
           "Total Whole Grain"
          ],
          [
           "Triples"
          ],
          [
           "Trix"
          ],
          [
           "Wheaties"
          ],
          [
           "Wheaties Honey Gold"
          ]
         ],
         "hovertemplate": "mfr=G<br>Sugar Content (g)=%{x}<br>Rating=%{y}<br>name=%{customdata[0]}<extra></extra>",
         "legendgroup": "G",
         "marker": {
          "color": "#FFA15A",
          "symbol": "circle"
         },
         "mode": "markers",
         "name": "G",
         "orientation": "v",
         "showlegend": true,
         "type": "scatter",
         "x": [
          10,
          8,
          1,
          9,
          7,
          13,
          13,
          10,
          9,
          10,
          3,
          12,
          6,
          10,
          8,
          3,
          14,
          3,
          3,
          12,
          3,
          8
         ],
         "xaxis": "x",
         "y": [
          29.509541,
          37.038562,
          50.764999,
          19.823573,
          40.400208,
          22.736446,
          22.396513,
          36.176196,
          23.804043,
          31.072217,
          39.241114,
          26.734515,
          40.105965,
          30.450843,
          39.7034,
          38.839746,
          28.592785,
          46.658844,
          39.106174,
          27.753301,
          51.592193,
          36.187559
         ],
         "yaxis": "y"
        },
        {
         "customdata": [
          [
           "Bran Flakes"
          ],
          [
           "Fruit & Fibre Dates; Walnuts; and Oats"
          ],
          [
           "Fruity Pebbles"
          ],
          [
           "Golden Crisp"
          ],
          [
           "Grape Nuts Flakes"
          ],
          [
           "Grape-Nuts"
          ],
          [
           "Great Grains Pecan"
          ],
          [
           "Honey-comb"
          ],
          [
           "Post Nat. Raisin Bran"
          ]
         ],
         "hovertemplate": "mfr=P<br>Sugar Content (g)=%{x}<br>Rating=%{y}<br>name=%{customdata[0]}<extra></extra>",
         "legendgroup": "P",
         "marker": {
          "color": "#19d3f3",
          "symbol": "circle"
         },
         "mode": "markers",
         "name": "P",
         "orientation": "v",
         "showlegend": true,
         "type": "scatter",
         "x": [
          5,
          10,
          12,
          15,
          5,
          3,
          4,
          11,
          14
         ],
         "xaxis": "x",
         "y": [
          53.313813,
          40.917047,
          28.025765,
          35.252444,
          52.076897,
          53.371007,
          45.811716,
          28.742414,
          37.840594
         ],
         "yaxis": "y"
        },
        {
         "customdata": [
          [
           "Maypo"
          ]
         ],
         "hovertemplate": "mfr=A<br>Sugar Content (g)=%{x}<br>Rating=%{y}<br>name=%{customdata[0]}<extra></extra>",
         "legendgroup": "A",
         "marker": {
          "color": "#FF6692",
          "symbol": "circle"
         },
         "mode": "markers",
         "name": "A",
         "orientation": "v",
         "showlegend": true,
         "type": "scatter",
         "x": [
          3
         ],
         "xaxis": "x",
         "y": [
          54.850917
         ],
         "yaxis": "y"
        }
       ],
       "layout": {
        "legend": {
         "title": {
          "text": "mfr"
         },
         "tracegroupgap": 0
        },
        "template": {
         "data": {
          "bar": [
           {
            "error_x": {
             "color": "#2a3f5f"
            },
            "error_y": {
             "color": "#2a3f5f"
            },
            "marker": {
             "line": {
              "color": "#E5ECF6",
              "width": 0.5
             },
             "pattern": {
              "fillmode": "overlay",
              "size": 10,
              "solidity": 0.2
             }
            },
            "type": "bar"
           }
          ],
          "barpolar": [
           {
            "marker": {
             "line": {
              "color": "#E5ECF6",
              "width": 0.5
             },
             "pattern": {
              "fillmode": "overlay",
              "size": 10,
              "solidity": 0.2
             }
            },
            "type": "barpolar"
           }
          ],
          "carpet": [
           {
            "aaxis": {
             "endlinecolor": "#2a3f5f",
             "gridcolor": "white",
             "linecolor": "white",
             "minorgridcolor": "white",
             "startlinecolor": "#2a3f5f"
            },
            "baxis": {
             "endlinecolor": "#2a3f5f",
             "gridcolor": "white",
             "linecolor": "white",
             "minorgridcolor": "white",
             "startlinecolor": "#2a3f5f"
            },
            "type": "carpet"
           }
          ],
          "choropleth": [
           {
            "colorbar": {
             "outlinewidth": 0,
             "ticks": ""
            },
            "type": "choropleth"
           }
          ],
          "contour": [
           {
            "colorbar": {
             "outlinewidth": 0,
             "ticks": ""
            },
            "colorscale": [
             [
              0,
              "#0d0887"
             ],
             [
              0.1111111111111111,
              "#46039f"
             ],
             [
              0.2222222222222222,
              "#7201a8"
             ],
             [
              0.3333333333333333,
              "#9c179e"
             ],
             [
              0.4444444444444444,
              "#bd3786"
             ],
             [
              0.5555555555555556,
              "#d8576b"
             ],
             [
              0.6666666666666666,
              "#ed7953"
             ],
             [
              0.7777777777777778,
              "#fb9f3a"
             ],
             [
              0.8888888888888888,
              "#fdca26"
             ],
             [
              1,
              "#f0f921"
             ]
            ],
            "type": "contour"
           }
          ],
          "contourcarpet": [
           {
            "colorbar": {
             "outlinewidth": 0,
             "ticks": ""
            },
            "type": "contourcarpet"
           }
          ],
          "heatmap": [
           {
            "colorbar": {
             "outlinewidth": 0,
             "ticks": ""
            },
            "colorscale": [
             [
              0,
              "#0d0887"
             ],
             [
              0.1111111111111111,
              "#46039f"
             ],
             [
              0.2222222222222222,
              "#7201a8"
             ],
             [
              0.3333333333333333,
              "#9c179e"
             ],
             [
              0.4444444444444444,
              "#bd3786"
             ],
             [
              0.5555555555555556,
              "#d8576b"
             ],
             [
              0.6666666666666666,
              "#ed7953"
             ],
             [
              0.7777777777777778,
              "#fb9f3a"
             ],
             [
              0.8888888888888888,
              "#fdca26"
             ],
             [
              1,
              "#f0f921"
             ]
            ],
            "type": "heatmap"
           }
          ],
          "heatmapgl": [
           {
            "colorbar": {
             "outlinewidth": 0,
             "ticks": ""
            },
            "colorscale": [
             [
              0,
              "#0d0887"
             ],
             [
              0.1111111111111111,
              "#46039f"
             ],
             [
              0.2222222222222222,
              "#7201a8"
             ],
             [
              0.3333333333333333,
              "#9c179e"
             ],
             [
              0.4444444444444444,
              "#bd3786"
             ],
             [
              0.5555555555555556,
              "#d8576b"
             ],
             [
              0.6666666666666666,
              "#ed7953"
             ],
             [
              0.7777777777777778,
              "#fb9f3a"
             ],
             [
              0.8888888888888888,
              "#fdca26"
             ],
             [
              1,
              "#f0f921"
             ]
            ],
            "type": "heatmapgl"
           }
          ],
          "histogram": [
           {
            "marker": {
             "pattern": {
              "fillmode": "overlay",
              "size": 10,
              "solidity": 0.2
             }
            },
            "type": "histogram"
           }
          ],
          "histogram2d": [
           {
            "colorbar": {
             "outlinewidth": 0,
             "ticks": ""
            },
            "colorscale": [
             [
              0,
              "#0d0887"
             ],
             [
              0.1111111111111111,
              "#46039f"
             ],
             [
              0.2222222222222222,
              "#7201a8"
             ],
             [
              0.3333333333333333,
              "#9c179e"
             ],
             [
              0.4444444444444444,
              "#bd3786"
             ],
             [
              0.5555555555555556,
              "#d8576b"
             ],
             [
              0.6666666666666666,
              "#ed7953"
             ],
             [
              0.7777777777777778,
              "#fb9f3a"
             ],
             [
              0.8888888888888888,
              "#fdca26"
             ],
             [
              1,
              "#f0f921"
             ]
            ],
            "type": "histogram2d"
           }
          ],
          "histogram2dcontour": [
           {
            "colorbar": {
             "outlinewidth": 0,
             "ticks": ""
            },
            "colorscale": [
             [
              0,
              "#0d0887"
             ],
             [
              0.1111111111111111,
              "#46039f"
             ],
             [
              0.2222222222222222,
              "#7201a8"
             ],
             [
              0.3333333333333333,
              "#9c179e"
             ],
             [
              0.4444444444444444,
              "#bd3786"
             ],
             [
              0.5555555555555556,
              "#d8576b"
             ],
             [
              0.6666666666666666,
              "#ed7953"
             ],
             [
              0.7777777777777778,
              "#fb9f3a"
             ],
             [
              0.8888888888888888,
              "#fdca26"
             ],
             [
              1,
              "#f0f921"
             ]
            ],
            "type": "histogram2dcontour"
           }
          ],
          "mesh3d": [
           {
            "colorbar": {
             "outlinewidth": 0,
             "ticks": ""
            },
            "type": "mesh3d"
           }
          ],
          "parcoords": [
           {
            "line": {
             "colorbar": {
              "outlinewidth": 0,
              "ticks": ""
             }
            },
            "type": "parcoords"
           }
          ],
          "pie": [
           {
            "automargin": true,
            "type": "pie"
           }
          ],
          "scatter": [
           {
            "fillpattern": {
             "fillmode": "overlay",
             "size": 10,
             "solidity": 0.2
            },
            "type": "scatter"
           }
          ],
          "scatter3d": [
           {
            "line": {
             "colorbar": {
              "outlinewidth": 0,
              "ticks": ""
             }
            },
            "marker": {
             "colorbar": {
              "outlinewidth": 0,
              "ticks": ""
             }
            },
            "type": "scatter3d"
           }
          ],
          "scattercarpet": [
           {
            "marker": {
             "colorbar": {
              "outlinewidth": 0,
              "ticks": ""
             }
            },
            "type": "scattercarpet"
           }
          ],
          "scattergeo": [
           {
            "marker": {
             "colorbar": {
              "outlinewidth": 0,
              "ticks": ""
             }
            },
            "type": "scattergeo"
           }
          ],
          "scattergl": [
           {
            "marker": {
             "colorbar": {
              "outlinewidth": 0,
              "ticks": ""
             }
            },
            "type": "scattergl"
           }
          ],
          "scattermapbox": [
           {
            "marker": {
             "colorbar": {
              "outlinewidth": 0,
              "ticks": ""
             }
            },
            "type": "scattermapbox"
           }
          ],
          "scatterpolar": [
           {
            "marker": {
             "colorbar": {
              "outlinewidth": 0,
              "ticks": ""
             }
            },
            "type": "scatterpolar"
           }
          ],
          "scatterpolargl": [
           {
            "marker": {
             "colorbar": {
              "outlinewidth": 0,
              "ticks": ""
             }
            },
            "type": "scatterpolargl"
           }
          ],
          "scatterternary": [
           {
            "marker": {
             "colorbar": {
              "outlinewidth": 0,
              "ticks": ""
             }
            },
            "type": "scatterternary"
           }
          ],
          "surface": [
           {
            "colorbar": {
             "outlinewidth": 0,
             "ticks": ""
            },
            "colorscale": [
             [
              0,
              "#0d0887"
             ],
             [
              0.1111111111111111,
              "#46039f"
             ],
             [
              0.2222222222222222,
              "#7201a8"
             ],
             [
              0.3333333333333333,
              "#9c179e"
             ],
             [
              0.4444444444444444,
              "#bd3786"
             ],
             [
              0.5555555555555556,
              "#d8576b"
             ],
             [
              0.6666666666666666,
              "#ed7953"
             ],
             [
              0.7777777777777778,
              "#fb9f3a"
             ],
             [
              0.8888888888888888,
              "#fdca26"
             ],
             [
              1,
              "#f0f921"
             ]
            ],
            "type": "surface"
           }
          ],
          "table": [
           {
            "cells": {
             "fill": {
              "color": "#EBF0F8"
             },
             "line": {
              "color": "white"
             }
            },
            "header": {
             "fill": {
              "color": "#C8D4E3"
             },
             "line": {
              "color": "white"
             }
            },
            "type": "table"
           }
          ]
         },
         "layout": {
          "annotationdefaults": {
           "arrowcolor": "#2a3f5f",
           "arrowhead": 0,
           "arrowwidth": 1
          },
          "autotypenumbers": "strict",
          "coloraxis": {
           "colorbar": {
            "outlinewidth": 0,
            "ticks": ""
           }
          },
          "colorscale": {
           "diverging": [
            [
             0,
             "#8e0152"
            ],
            [
             0.1,
             "#c51b7d"
            ],
            [
             0.2,
             "#de77ae"
            ],
            [
             0.3,
             "#f1b6da"
            ],
            [
             0.4,
             "#fde0ef"
            ],
            [
             0.5,
             "#f7f7f7"
            ],
            [
             0.6,
             "#e6f5d0"
            ],
            [
             0.7,
             "#b8e186"
            ],
            [
             0.8,
             "#7fbc41"
            ],
            [
             0.9,
             "#4d9221"
            ],
            [
             1,
             "#276419"
            ]
           ],
           "sequential": [
            [
             0,
             "#0d0887"
            ],
            [
             0.1111111111111111,
             "#46039f"
            ],
            [
             0.2222222222222222,
             "#7201a8"
            ],
            [
             0.3333333333333333,
             "#9c179e"
            ],
            [
             0.4444444444444444,
             "#bd3786"
            ],
            [
             0.5555555555555556,
             "#d8576b"
            ],
            [
             0.6666666666666666,
             "#ed7953"
            ],
            [
             0.7777777777777778,
             "#fb9f3a"
            ],
            [
             0.8888888888888888,
             "#fdca26"
            ],
            [
             1,
             "#f0f921"
            ]
           ],
           "sequentialminus": [
            [
             0,
             "#0d0887"
            ],
            [
             0.1111111111111111,
             "#46039f"
            ],
            [
             0.2222222222222222,
             "#7201a8"
            ],
            [
             0.3333333333333333,
             "#9c179e"
            ],
            [
             0.4444444444444444,
             "#bd3786"
            ],
            [
             0.5555555555555556,
             "#d8576b"
            ],
            [
             0.6666666666666666,
             "#ed7953"
            ],
            [
             0.7777777777777778,
             "#fb9f3a"
            ],
            [
             0.8888888888888888,
             "#fdca26"
            ],
            [
             1,
             "#f0f921"
            ]
           ]
          },
          "colorway": [
           "#636efa",
           "#EF553B",
           "#00cc96",
           "#ab63fa",
           "#FFA15A",
           "#19d3f3",
           "#FF6692",
           "#B6E880",
           "#FF97FF",
           "#FECB52"
          ],
          "font": {
           "color": "#2a3f5f"
          },
          "geo": {
           "bgcolor": "white",
           "lakecolor": "white",
           "landcolor": "#E5ECF6",
           "showlakes": true,
           "showland": true,
           "subunitcolor": "white"
          },
          "hoverlabel": {
           "align": "left"
          },
          "hovermode": "closest",
          "mapbox": {
           "style": "light"
          },
          "paper_bgcolor": "white",
          "plot_bgcolor": "#E5ECF6",
          "polar": {
           "angularaxis": {
            "gridcolor": "white",
            "linecolor": "white",
            "ticks": ""
           },
           "bgcolor": "#E5ECF6",
           "radialaxis": {
            "gridcolor": "white",
            "linecolor": "white",
            "ticks": ""
           }
          },
          "scene": {
           "xaxis": {
            "backgroundcolor": "#E5ECF6",
            "gridcolor": "white",
            "gridwidth": 2,
            "linecolor": "white",
            "showbackground": true,
            "ticks": "",
            "zerolinecolor": "white"
           },
           "yaxis": {
            "backgroundcolor": "#E5ECF6",
            "gridcolor": "white",
            "gridwidth": 2,
            "linecolor": "white",
            "showbackground": true,
            "ticks": "",
            "zerolinecolor": "white"
           },
           "zaxis": {
            "backgroundcolor": "#E5ECF6",
            "gridcolor": "white",
            "gridwidth": 2,
            "linecolor": "white",
            "showbackground": true,
            "ticks": "",
            "zerolinecolor": "white"
           }
          },
          "shapedefaults": {
           "line": {
            "color": "#2a3f5f"
           }
          },
          "ternary": {
           "aaxis": {
            "gridcolor": "white",
            "linecolor": "white",
            "ticks": ""
           },
           "baxis": {
            "gridcolor": "white",
            "linecolor": "white",
            "ticks": ""
           },
           "bgcolor": "#E5ECF6",
           "caxis": {
            "gridcolor": "white",
            "linecolor": "white",
            "ticks": ""
           }
          },
          "title": {
           "x": 0.05
          },
          "xaxis": {
           "automargin": true,
           "gridcolor": "white",
           "linecolor": "white",
           "ticks": "",
           "title": {
            "standoff": 15
           },
           "zerolinecolor": "white",
           "zerolinewidth": 2
          },
          "yaxis": {
           "automargin": true,
           "gridcolor": "white",
           "linecolor": "white",
           "ticks": "",
           "title": {
            "standoff": 15
           },
           "zerolinecolor": "white",
           "zerolinewidth": 2
          }
         }
        },
        "title": {
         "text": "Sugar Content vs. Rating"
        },
        "xaxis": {
         "anchor": "y",
         "domain": [
          0,
          1
         ],
         "title": {
          "text": "Sugar Content (g)"
         }
        },
        "yaxis": {
         "anchor": "x",
         "domain": [
          0,
          1
         ],
         "title": {
          "text": "Rating"
         }
        }
       }
      }
     },
     "metadata": {},
     "output_type": "display_data"
    }
   ],
   "source": [
    "import pandas as pd\n",
    "import plotly.express as px\n",
    "\n",
    "fig = px.scatter(df, x='sugars', y='rating', color='mfr',\n",
    "                 title='Sugar Content vs. Rating',\n",
    "                 labels={'sugars': 'Sugar Content (g)', 'rating': 'Rating'},\n",
    "                 hover_data=['name'])\n",
    "\n",
    "# Show the plot\n",
    "fig.show()\n"
   ]
  },
  {
   "cell_type": "markdown",
   "metadata": {},
   "source": [
    "### This plot will show the average protein content of cereals produced by each manufacturer with interactivity."
   ]
  },
  {
   "cell_type": "code",
   "execution_count": 12,
   "metadata": {},
   "outputs": [
    {
     "data": {
      "application/vnd.plotly.v1+json": {
       "config": {
        "plotlyServerURL": "https://plot.ly"
       },
       "data": [
        {
         "alignmentgroup": "True",
         "hovertemplate": "Manufacturer=%{x}<br>Average Protein (g)=%{marker.color}<extra></extra>",
         "legendgroup": "",
         "marker": {
          "color": [
           4,
           2.3181818181818183,
           2.652173913043478,
           2.8333333333333335,
           2.4444444444444446,
           2.625,
           2.5
          ],
          "coloraxis": "coloraxis",
          "pattern": {
           "shape": ""
          }
         },
         "name": "",
         "offsetgroup": "",
         "orientation": "v",
         "showlegend": false,
         "textposition": "auto",
         "type": "bar",
         "x": [
          "A",
          "G",
          "K",
          "N",
          "P",
          "Q",
          "R"
         ],
         "xaxis": "x",
         "y": [
          4,
          2.3181818181818183,
          2.652173913043478,
          2.8333333333333335,
          2.4444444444444446,
          2.625,
          2.5
         ],
         "yaxis": "y"
        }
       ],
       "layout": {
        "barmode": "relative",
        "coloraxis": {
         "colorbar": {
          "title": {
           "text": "Average Protein (g)"
          }
         },
         "colorscale": [
          [
           0,
           "#440154"
          ],
          [
           0.1111111111111111,
           "#482878"
          ],
          [
           0.2222222222222222,
           "#3e4989"
          ],
          [
           0.3333333333333333,
           "#31688e"
          ],
          [
           0.4444444444444444,
           "#26828e"
          ],
          [
           0.5555555555555556,
           "#1f9e89"
          ],
          [
           0.6666666666666666,
           "#35b779"
          ],
          [
           0.7777777777777778,
           "#6ece58"
          ],
          [
           0.8888888888888888,
           "#b5de2b"
          ],
          [
           1,
           "#fde725"
          ]
         ]
        },
        "legend": {
         "tracegroupgap": 0
        },
        "template": {
         "data": {
          "bar": [
           {
            "error_x": {
             "color": "#2a3f5f"
            },
            "error_y": {
             "color": "#2a3f5f"
            },
            "marker": {
             "line": {
              "color": "#E5ECF6",
              "width": 0.5
             },
             "pattern": {
              "fillmode": "overlay",
              "size": 10,
              "solidity": 0.2
             }
            },
            "type": "bar"
           }
          ],
          "barpolar": [
           {
            "marker": {
             "line": {
              "color": "#E5ECF6",
              "width": 0.5
             },
             "pattern": {
              "fillmode": "overlay",
              "size": 10,
              "solidity": 0.2
             }
            },
            "type": "barpolar"
           }
          ],
          "carpet": [
           {
            "aaxis": {
             "endlinecolor": "#2a3f5f",
             "gridcolor": "white",
             "linecolor": "white",
             "minorgridcolor": "white",
             "startlinecolor": "#2a3f5f"
            },
            "baxis": {
             "endlinecolor": "#2a3f5f",
             "gridcolor": "white",
             "linecolor": "white",
             "minorgridcolor": "white",
             "startlinecolor": "#2a3f5f"
            },
            "type": "carpet"
           }
          ],
          "choropleth": [
           {
            "colorbar": {
             "outlinewidth": 0,
             "ticks": ""
            },
            "type": "choropleth"
           }
          ],
          "contour": [
           {
            "colorbar": {
             "outlinewidth": 0,
             "ticks": ""
            },
            "colorscale": [
             [
              0,
              "#0d0887"
             ],
             [
              0.1111111111111111,
              "#46039f"
             ],
             [
              0.2222222222222222,
              "#7201a8"
             ],
             [
              0.3333333333333333,
              "#9c179e"
             ],
             [
              0.4444444444444444,
              "#bd3786"
             ],
             [
              0.5555555555555556,
              "#d8576b"
             ],
             [
              0.6666666666666666,
              "#ed7953"
             ],
             [
              0.7777777777777778,
              "#fb9f3a"
             ],
             [
              0.8888888888888888,
              "#fdca26"
             ],
             [
              1,
              "#f0f921"
             ]
            ],
            "type": "contour"
           }
          ],
          "contourcarpet": [
           {
            "colorbar": {
             "outlinewidth": 0,
             "ticks": ""
            },
            "type": "contourcarpet"
           }
          ],
          "heatmap": [
           {
            "colorbar": {
             "outlinewidth": 0,
             "ticks": ""
            },
            "colorscale": [
             [
              0,
              "#0d0887"
             ],
             [
              0.1111111111111111,
              "#46039f"
             ],
             [
              0.2222222222222222,
              "#7201a8"
             ],
             [
              0.3333333333333333,
              "#9c179e"
             ],
             [
              0.4444444444444444,
              "#bd3786"
             ],
             [
              0.5555555555555556,
              "#d8576b"
             ],
             [
              0.6666666666666666,
              "#ed7953"
             ],
             [
              0.7777777777777778,
              "#fb9f3a"
             ],
             [
              0.8888888888888888,
              "#fdca26"
             ],
             [
              1,
              "#f0f921"
             ]
            ],
            "type": "heatmap"
           }
          ],
          "heatmapgl": [
           {
            "colorbar": {
             "outlinewidth": 0,
             "ticks": ""
            },
            "colorscale": [
             [
              0,
              "#0d0887"
             ],
             [
              0.1111111111111111,
              "#46039f"
             ],
             [
              0.2222222222222222,
              "#7201a8"
             ],
             [
              0.3333333333333333,
              "#9c179e"
             ],
             [
              0.4444444444444444,
              "#bd3786"
             ],
             [
              0.5555555555555556,
              "#d8576b"
             ],
             [
              0.6666666666666666,
              "#ed7953"
             ],
             [
              0.7777777777777778,
              "#fb9f3a"
             ],
             [
              0.8888888888888888,
              "#fdca26"
             ],
             [
              1,
              "#f0f921"
             ]
            ],
            "type": "heatmapgl"
           }
          ],
          "histogram": [
           {
            "marker": {
             "pattern": {
              "fillmode": "overlay",
              "size": 10,
              "solidity": 0.2
             }
            },
            "type": "histogram"
           }
          ],
          "histogram2d": [
           {
            "colorbar": {
             "outlinewidth": 0,
             "ticks": ""
            },
            "colorscale": [
             [
              0,
              "#0d0887"
             ],
             [
              0.1111111111111111,
              "#46039f"
             ],
             [
              0.2222222222222222,
              "#7201a8"
             ],
             [
              0.3333333333333333,
              "#9c179e"
             ],
             [
              0.4444444444444444,
              "#bd3786"
             ],
             [
              0.5555555555555556,
              "#d8576b"
             ],
             [
              0.6666666666666666,
              "#ed7953"
             ],
             [
              0.7777777777777778,
              "#fb9f3a"
             ],
             [
              0.8888888888888888,
              "#fdca26"
             ],
             [
              1,
              "#f0f921"
             ]
            ],
            "type": "histogram2d"
           }
          ],
          "histogram2dcontour": [
           {
            "colorbar": {
             "outlinewidth": 0,
             "ticks": ""
            },
            "colorscale": [
             [
              0,
              "#0d0887"
             ],
             [
              0.1111111111111111,
              "#46039f"
             ],
             [
              0.2222222222222222,
              "#7201a8"
             ],
             [
              0.3333333333333333,
              "#9c179e"
             ],
             [
              0.4444444444444444,
              "#bd3786"
             ],
             [
              0.5555555555555556,
              "#d8576b"
             ],
             [
              0.6666666666666666,
              "#ed7953"
             ],
             [
              0.7777777777777778,
              "#fb9f3a"
             ],
             [
              0.8888888888888888,
              "#fdca26"
             ],
             [
              1,
              "#f0f921"
             ]
            ],
            "type": "histogram2dcontour"
           }
          ],
          "mesh3d": [
           {
            "colorbar": {
             "outlinewidth": 0,
             "ticks": ""
            },
            "type": "mesh3d"
           }
          ],
          "parcoords": [
           {
            "line": {
             "colorbar": {
              "outlinewidth": 0,
              "ticks": ""
             }
            },
            "type": "parcoords"
           }
          ],
          "pie": [
           {
            "automargin": true,
            "type": "pie"
           }
          ],
          "scatter": [
           {
            "fillpattern": {
             "fillmode": "overlay",
             "size": 10,
             "solidity": 0.2
            },
            "type": "scatter"
           }
          ],
          "scatter3d": [
           {
            "line": {
             "colorbar": {
              "outlinewidth": 0,
              "ticks": ""
             }
            },
            "marker": {
             "colorbar": {
              "outlinewidth": 0,
              "ticks": ""
             }
            },
            "type": "scatter3d"
           }
          ],
          "scattercarpet": [
           {
            "marker": {
             "colorbar": {
              "outlinewidth": 0,
              "ticks": ""
             }
            },
            "type": "scattercarpet"
           }
          ],
          "scattergeo": [
           {
            "marker": {
             "colorbar": {
              "outlinewidth": 0,
              "ticks": ""
             }
            },
            "type": "scattergeo"
           }
          ],
          "scattergl": [
           {
            "marker": {
             "colorbar": {
              "outlinewidth": 0,
              "ticks": ""
             }
            },
            "type": "scattergl"
           }
          ],
          "scattermapbox": [
           {
            "marker": {
             "colorbar": {
              "outlinewidth": 0,
              "ticks": ""
             }
            },
            "type": "scattermapbox"
           }
          ],
          "scatterpolar": [
           {
            "marker": {
             "colorbar": {
              "outlinewidth": 0,
              "ticks": ""
             }
            },
            "type": "scatterpolar"
           }
          ],
          "scatterpolargl": [
           {
            "marker": {
             "colorbar": {
              "outlinewidth": 0,
              "ticks": ""
             }
            },
            "type": "scatterpolargl"
           }
          ],
          "scatterternary": [
           {
            "marker": {
             "colorbar": {
              "outlinewidth": 0,
              "ticks": ""
             }
            },
            "type": "scatterternary"
           }
          ],
          "surface": [
           {
            "colorbar": {
             "outlinewidth": 0,
             "ticks": ""
            },
            "colorscale": [
             [
              0,
              "#0d0887"
             ],
             [
              0.1111111111111111,
              "#46039f"
             ],
             [
              0.2222222222222222,
              "#7201a8"
             ],
             [
              0.3333333333333333,
              "#9c179e"
             ],
             [
              0.4444444444444444,
              "#bd3786"
             ],
             [
              0.5555555555555556,
              "#d8576b"
             ],
             [
              0.6666666666666666,
              "#ed7953"
             ],
             [
              0.7777777777777778,
              "#fb9f3a"
             ],
             [
              0.8888888888888888,
              "#fdca26"
             ],
             [
              1,
              "#f0f921"
             ]
            ],
            "type": "surface"
           }
          ],
          "table": [
           {
            "cells": {
             "fill": {
              "color": "#EBF0F8"
             },
             "line": {
              "color": "white"
             }
            },
            "header": {
             "fill": {
              "color": "#C8D4E3"
             },
             "line": {
              "color": "white"
             }
            },
            "type": "table"
           }
          ]
         },
         "layout": {
          "annotationdefaults": {
           "arrowcolor": "#2a3f5f",
           "arrowhead": 0,
           "arrowwidth": 1
          },
          "autotypenumbers": "strict",
          "coloraxis": {
           "colorbar": {
            "outlinewidth": 0,
            "ticks": ""
           }
          },
          "colorscale": {
           "diverging": [
            [
             0,
             "#8e0152"
            ],
            [
             0.1,
             "#c51b7d"
            ],
            [
             0.2,
             "#de77ae"
            ],
            [
             0.3,
             "#f1b6da"
            ],
            [
             0.4,
             "#fde0ef"
            ],
            [
             0.5,
             "#f7f7f7"
            ],
            [
             0.6,
             "#e6f5d0"
            ],
            [
             0.7,
             "#b8e186"
            ],
            [
             0.8,
             "#7fbc41"
            ],
            [
             0.9,
             "#4d9221"
            ],
            [
             1,
             "#276419"
            ]
           ],
           "sequential": [
            [
             0,
             "#0d0887"
            ],
            [
             0.1111111111111111,
             "#46039f"
            ],
            [
             0.2222222222222222,
             "#7201a8"
            ],
            [
             0.3333333333333333,
             "#9c179e"
            ],
            [
             0.4444444444444444,
             "#bd3786"
            ],
            [
             0.5555555555555556,
             "#d8576b"
            ],
            [
             0.6666666666666666,
             "#ed7953"
            ],
            [
             0.7777777777777778,
             "#fb9f3a"
            ],
            [
             0.8888888888888888,
             "#fdca26"
            ],
            [
             1,
             "#f0f921"
            ]
           ],
           "sequentialminus": [
            [
             0,
             "#0d0887"
            ],
            [
             0.1111111111111111,
             "#46039f"
            ],
            [
             0.2222222222222222,
             "#7201a8"
            ],
            [
             0.3333333333333333,
             "#9c179e"
            ],
            [
             0.4444444444444444,
             "#bd3786"
            ],
            [
             0.5555555555555556,
             "#d8576b"
            ],
            [
             0.6666666666666666,
             "#ed7953"
            ],
            [
             0.7777777777777778,
             "#fb9f3a"
            ],
            [
             0.8888888888888888,
             "#fdca26"
            ],
            [
             1,
             "#f0f921"
            ]
           ]
          },
          "colorway": [
           "#636efa",
           "#EF553B",
           "#00cc96",
           "#ab63fa",
           "#FFA15A",
           "#19d3f3",
           "#FF6692",
           "#B6E880",
           "#FF97FF",
           "#FECB52"
          ],
          "font": {
           "color": "#2a3f5f"
          },
          "geo": {
           "bgcolor": "white",
           "lakecolor": "white",
           "landcolor": "#E5ECF6",
           "showlakes": true,
           "showland": true,
           "subunitcolor": "white"
          },
          "hoverlabel": {
           "align": "left"
          },
          "hovermode": "closest",
          "mapbox": {
           "style": "light"
          },
          "paper_bgcolor": "white",
          "plot_bgcolor": "#E5ECF6",
          "polar": {
           "angularaxis": {
            "gridcolor": "white",
            "linecolor": "white",
            "ticks": ""
           },
           "bgcolor": "#E5ECF6",
           "radialaxis": {
            "gridcolor": "white",
            "linecolor": "white",
            "ticks": ""
           }
          },
          "scene": {
           "xaxis": {
            "backgroundcolor": "#E5ECF6",
            "gridcolor": "white",
            "gridwidth": 2,
            "linecolor": "white",
            "showbackground": true,
            "ticks": "",
            "zerolinecolor": "white"
           },
           "yaxis": {
            "backgroundcolor": "#E5ECF6",
            "gridcolor": "white",
            "gridwidth": 2,
            "linecolor": "white",
            "showbackground": true,
            "ticks": "",
            "zerolinecolor": "white"
           },
           "zaxis": {
            "backgroundcolor": "#E5ECF6",
            "gridcolor": "white",
            "gridwidth": 2,
            "linecolor": "white",
            "showbackground": true,
            "ticks": "",
            "zerolinecolor": "white"
           }
          },
          "shapedefaults": {
           "line": {
            "color": "#2a3f5f"
           }
          },
          "ternary": {
           "aaxis": {
            "gridcolor": "white",
            "linecolor": "white",
            "ticks": ""
           },
           "baxis": {
            "gridcolor": "white",
            "linecolor": "white",
            "ticks": ""
           },
           "bgcolor": "#E5ECF6",
           "caxis": {
            "gridcolor": "white",
            "linecolor": "white",
            "ticks": ""
           }
          },
          "title": {
           "x": 0.05
          },
          "xaxis": {
           "automargin": true,
           "gridcolor": "white",
           "linecolor": "white",
           "ticks": "",
           "title": {
            "standoff": 15
           },
           "zerolinecolor": "white",
           "zerolinewidth": 2
          },
          "yaxis": {
           "automargin": true,
           "gridcolor": "white",
           "linecolor": "white",
           "ticks": "",
           "title": {
            "standoff": 15
           },
           "zerolinecolor": "white",
           "zerolinewidth": 2
          }
         }
        },
        "title": {
         "text": "Average Protein Content by Manufacturer"
        },
        "xaxis": {
         "anchor": "y",
         "domain": [
          0,
          1
         ],
         "title": {
          "text": "Manufacturer"
         }
        },
        "yaxis": {
         "anchor": "x",
         "domain": [
          0,
          1
         ],
         "title": {
          "text": "Average Protein (g)"
         }
        }
       }
      }
     },
     "metadata": {},
     "output_type": "display_data"
    }
   ],
   "source": [
    "import plotly.express as px\n",
    "\n",
    "avg_protein = df.groupby('mfr')['protein'].mean().reset_index()\n",
    "\n",
    "fig = px.bar(avg_protein, x='mfr', y='protein',\n",
    "             title='Average Protein Content by Manufacturer',\n",
    "             labels={'mfr': 'Manufacturer', 'protein': 'Average Protein (g)'},\n",
    "             color='protein', color_continuous_scale='Viridis')\n",
    "\n",
    "fig.show()\n"
   ]
  },
  {
   "cell_type": "markdown",
   "metadata": {},
   "source": [
    "---"
   ]
  },
  {
   "cell_type": "markdown",
   "metadata": {},
   "source": [
    "## Task 6: Final Thoughts"
   ]
  },
  {
   "cell_type": "markdown",
   "metadata": {},
   "source": [
    "### Final Thoughts on Data Visualization Tools\n",
    "\n",
    "- **Matplotlib**: Best for static, highly customizable plots and complex visualizations. Ideal for detailed technical reports and scientific research.\n",
    "\n",
    "- **Seaborn**: Excellent for statistical visualizations and exploratory data analysis. Perfect for quickly understanding data distributions and relationships.\n",
    "\n",
    "- **Power BI**: Suited for business intelligence and real-time data monitoring. Great for creating interactive dashboards and live reports.\n",
    "\n",
    "- **Plotly**: Ideal for interactive and web-based visualizations. Best for dynamic data exploration and integrating visualizations into web applications.\n"
   ]
  },
  {
   "cell_type": "markdown",
   "metadata": {},
   "source": []
  }
 ],
 "metadata": {
  "kernelspec": {
   "display_name": "Python 3",
   "language": "python",
   "name": "python3"
  },
  "language_info": {
   "codemirror_mode": {
    "name": "ipython",
    "version": 3
   },
   "file_extension": ".py",
   "mimetype": "text/x-python",
   "name": "python",
   "nbconvert_exporter": "python",
   "pygments_lexer": "ipython3",
   "version": "3.10.4"
  }
 },
 "nbformat": 4,
 "nbformat_minor": 2
}
